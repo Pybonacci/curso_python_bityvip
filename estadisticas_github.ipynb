{
 "metadata": {
  "name": ""
 },
 "nbformat": 3,
 "nbformat_minor": 0,
 "worksheets": [
  {
   "cells": [
    {
     "cell_type": "markdown",
     "metadata": {},
     "source": [
      "## Ejercicio\n",
      "\n",
      "Utilizando datos de la API de GitHub, producir una figura con tres gr\u00e1ficas: commits por d\u00eda del proyecto, y commits por d\u00eda de las tres personas con mayor n\u00famero de commits"
     ]
    },
    {
     "cell_type": "markdown",
     "metadata": {},
     "source": [
      "### Cargar los datos\n",
      "\n",
      "Se leen directamente desde un fichero JSON, obtenido a trav\u00e9s de la API de GitHub con el programa `project_hist.py`."
     ]
    },
    {
     "cell_type": "code",
     "collapsed": false,
     "input": [
      "import numpy as np\n",
      "import json\n",
      "\n",
      "import dateutil.parser"
     ],
     "language": "python",
     "metadata": {},
     "outputs": [],
     "prompt_number": 1
    },
    {
     "cell_type": "code",
     "collapsed": false,
     "input": [
      "with open(\"dat/scipy_scipy.json\") as f:\n",
      "    scipy_datos = json.load(f)"
     ],
     "language": "python",
     "metadata": {},
     "outputs": [],
     "prompt_number": 2
    },
    {
     "cell_type": "markdown",
     "metadata": {},
     "source": [
      "A continuaci\u00f3n, vamos a descartar todos los datos que no nos interesan. Vamos a construir un array de tres columnas, con tantas filas como commits haya en los datos:\n",
      "\n",
      "1. Fecha del commit (_no necesariamente ordenadas_)\n",
      "2. Nombre del commiter (_no necesariamente el autor_)\n",
      "3. Hash del commit (innecesario, solo para identificar los commits)\n",
      "\n",
      "Con `dateutil.parser.parse` obtengo un objeto `datetime` a partir de una cadena en formato ISO 8601. Con su m\u00e9todo `date` lo convierto a `date` y por tanto descarto horas, minutos y segundos."
     ]
    },
    {
     "cell_type": "code",
     "collapsed": false,
     "input": [
      "N = len(scipy_datos)\n",
      "\n",
      "commits_info = np.empty((N, 3), dtype=object)\n",
      "for i in range(N):\n",
      "    date_commit = scipy_datos[i]['commit']['committer']['date']\n",
      "    author_name = scipy_datos[i]['commit']['committer']['name']\n",
      "    commit_hash = scipy_datos[i]['sha']\n",
      "    dt = dateutil.parser.parse(date_commit)\n",
      "    commits_info[i] = [dt.date(), author_name, commit_hash]"
     ],
     "language": "python",
     "metadata": {},
     "outputs": [],
     "prompt_number": 3
    },
    {
     "cell_type": "markdown",
     "metadata": {},
     "source": [
      "### Proyecto completo\n",
      "\n",
      "Ahora me interesa saber el n\u00famero total de commits por d\u00eda, olvid\u00e1ndome de los autores. Para ello, lo primero que hago es obtener una lista de fechas sin repetir, utilizando `np.unique`:"
     ]
    },
    {
     "cell_type": "code",
     "collapsed": false,
     "input": [
      "fechas = np.unique(commits_info[:, 0])"
     ],
     "language": "python",
     "metadata": {},
     "outputs": [],
     "prompt_number": 4
    },
    {
     "cell_type": "markdown",
     "metadata": {},
     "source": [
      "Ahora voy a construir un array de dos columnas: la primera tendr\u00e1 las fechas (ser\u00e1n todas distintas), y la segunda tendr\u00e1 el n\u00famero de commits correspondientes a esa fecha.\n",
      "\n",
      "Para conseguir esto, solo tengo que iterar sobre las fechas y utilizar esta propiedad:"
     ]
    },
    {
     "cell_type": "code",
     "collapsed": false,
     "input": [
      "ff = fechas[30]  # Una fecha de ejemplo\n",
      "print(ff)\n",
      "\n",
      "# La siguiente l\u00ednea devuelve una m\u00e1scara\n",
      "# (un array de True/False) con True en las posiciones\n",
      "# correspondientes a las filas donde se cumple la condici\u00f3n\n",
      "mask = commits_info[:, 0] == ff\n",
      "\n",
      "# Uso esa m\u00e1scara para obtener los commits de\n",
      "# fecha `ff`\n",
      "print(commits_info[mask])"
     ],
     "language": "python",
     "metadata": {},
     "outputs": [
      {
       "output_type": "stream",
       "stream": "stdout",
       "text": [
        "2010-06-07\n",
        "[[datetime.date(2010, 6, 7) 'rgommers'\n",
        "  'e780c4bca8de950a92a72b0d22b55b45001aea87']\n",
        " [datetime.date(2010, 6, 7) 'David Cournapeau'\n",
        "  'c0751d0f7c68ed9bccf27a97a7edf77585429fe3']]\n"
       ]
      }
     ],
     "prompt_number": 5
    },
    {
     "cell_type": "markdown",
     "metadata": {},
     "source": [
      "Este es el c\u00f3digo:"
     ]
    },
    {
     "cell_type": "code",
     "collapsed": false,
     "input": [
      "num_fechas = len(fechas)\n",
      "\n",
      "# Mi array de dos columnas, con fechas y n\u00famero\n",
      "# de commits\n",
      "commits_por_dia = np.empty((num_fechas, 2), dtype=object)\n",
      "\n",
      "# Itero en las fechas\n",
      "for ii in range(num_fechas):\n",
      "    num_commits = len(commits_info[commits_info[:, 0] == fechas[ii]])\n",
      "    commits_por_dia[ii] = (fechas[ii], num_commits)"
     ],
     "language": "python",
     "metadata": {},
     "outputs": [],
     "prompt_number": 6
    },
    {
     "cell_type": "markdown",
     "metadata": {},
     "source": [
      "Representamos la gr\u00e1fica:"
     ]
    },
    {
     "cell_type": "code",
     "collapsed": false,
     "input": [
      "import matplotlib.pyplot as plt\n",
      "\n",
      "fig, axes = plt.subplots(4, 1, sharex=True, sharey=True, figsize=(6, 8))\n",
      "\n",
      "fig.autofmt_xdate()"
     ],
     "language": "python",
     "metadata": {},
     "outputs": [],
     "prompt_number": 7
    },
    {
     "cell_type": "code",
     "collapsed": false,
     "input": [
      "axes[0].plot(commits_por_dia[:, 0], commits_por_dia[:, 1])"
     ],
     "language": "python",
     "metadata": {},
     "outputs": [
      {
       "metadata": {},
       "output_type": "pyout",
       "prompt_number": 8,
       "text": [
        "[<matplotlib.lines.Line2D at 0x7f651bd83690>]"
       ]
      }
     ],
     "prompt_number": 8
    },
    {
     "cell_type": "markdown",
     "metadata": {},
     "source": [
      "### Gr\u00e1ficas por autor\n",
      "\n",
      "En primer lugar, debemos **seleccionar los 3 commiters** con m\u00e1ximo n\u00famero de commits. La l\u00f3gica es similar que la que hemos seguido para seleccionar las fechas:"
     ]
    },
    {
     "cell_type": "code",
     "collapsed": false,
     "input": [
      "committers = np.unique(commits_info[:, 1])\n",
      "num_committers = len(committers)\n",
      "\n",
      "commits_por_autor = np.empty((num_committers, 2), dtype=object)\n",
      "\n",
      "for jj in range(num_committers):\n",
      "    num_commits = len(commits_info[commits_info[:, 1] == committers[jj]])\n",
      "    commits_por_autor[jj] = (committers[jj], num_commits)"
     ],
     "language": "python",
     "metadata": {},
     "outputs": [],
     "prompt_number": 9
    },
    {
     "cell_type": "markdown",
     "metadata": {},
     "source": [
      "Una vez tenemos cada persona con su n\u00famero de commits, solo hay que ordenar el array y sacar los tres primeros: necesitamos la funci\u00f3n `np.argsort`)."
     ]
    },
    {
     "cell_type": "code",
     "collapsed": false,
     "input": [
      "indices = np.argsort(commits_por_autor[:, 1])[::-1]\n",
      "autores_selecc = commits_por_autor[indices][:3, 0]\n",
      "autores_selecc"
     ],
     "language": "python",
     "metadata": {},
     "outputs": [
      {
       "metadata": {},
       "output_type": "pyout",
       "prompt_number": 10,
       "text": [
        "array(['Pauli Virtanen', 'Ralf Gommers', 'rgommers'], dtype=object)"
       ]
      }
     ],
     "prompt_number": 10
    },
    {
     "cell_type": "markdown",
     "metadata": {},
     "source": [
      "Una vez tenemos los nombres de los autores, ya podemos averig\u00fcar los commits por d\u00eda de cada uno de ellos:"
     ]
    },
    {
     "cell_type": "code",
     "collapsed": false,
     "input": [
      "kk = 1\n",
      "for autor in autores_selecc:\n",
      "    commits_autor = commits_info[commits_info[:, 1] == autor]\n",
      "\n",
      "    commits_por_dia_autor = np.empty((num_fechas, 2), dtype=object)\n",
      "\n",
      "    # Itero en las fechas\n",
      "    for ii in range(num_fechas):\n",
      "        num_commits = len(commits_autor[commits_autor[:, 0] == fechas[ii]])\n",
      "        commits_por_dia_autor[ii] = (fechas[ii], num_commits)\n",
      "    \n",
      "    axes[kk].plot(commits_por_dia_autor[:, 0], commits_por_dia_autor[:, 1])\n",
      "    \n",
      "    kk += 1"
     ],
     "language": "python",
     "metadata": {},
     "outputs": [],
     "prompt_number": 11
    },
    {
     "cell_type": "code",
     "collapsed": false,
     "input": [
      "fig.suptitle(\"Estad\u00edsticas GitHub\")\n",
      "fig.savefig(\"estadisticas_github.png\")"
     ],
     "language": "python",
     "metadata": {},
     "outputs": [],
     "prompt_number": 13
    },
    {
     "cell_type": "markdown",
     "metadata": {},
     "source": [
      "Y fin :)"
     ]
    }
   ],
   "metadata": {}
  }
 ]
}
